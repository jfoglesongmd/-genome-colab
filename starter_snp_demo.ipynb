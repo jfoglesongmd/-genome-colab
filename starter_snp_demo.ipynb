{
 "cells": [
  {
   "cell_type": "markdown",
   "metadata": {},
   "source": [
    "# Starter SNP Demo\n",
    "This notebook loads a tiny test SNP file and shows variant info."
   ]
  },
  {
   "cell_type": "code",
   "execution_count": null,
   "metadata": {},
   "outputs": [],
   "source": [
    "!pip install scikit-allel --quiet"
   ]
  },
  {
   "cell_type": "code",
   "execution_count": null,
   "metadata": {},
   "outputs": [],
   "source": [
    "import allel\n",
    "import pandas as pd"
   ]
  },
  {
   "cell_type": "code",
   "execution_count": null,
   "metadata": {},
   "outputs": [],
   "source": [
    "!wget -q -O test.vcf \"https://raw.githubusercontent.com/lindenb/jvarkit/master/src/test/resources/rotavirus_rf.vcf\""
   ]
  },
  {
   "cell_type": "code",
   "execution_count": null,
   "metadata": {},
   "outputs": [],
   "source": [
    "callset = allel.read_vcf(\"test.vcf\")\n",
    "variants = pd.DataFrame({\n",
    "    'CHROM': callset['variants/CHROM'],\n",
    "    'POS': callset['variants/POS'],\n",
    "    'REF': callset['variants/REF'],\n",
    "    'ALT': [alt[0] if len(alt) > 0 else None for alt in callset['variants/ALT']]\n",
    "})\n",
    "variants.head()"
   ]
  }
 ],
 "metadata": {
  "kernelspec": {
   "display_name": "Python 3",
   "language": "python",
   "name": "python3"
  },
  "language_info": {
   "name": "python",
   "version": "3.x"
  }
 },
 "nbformat": 4,
 "nbformat_minor": 2
}